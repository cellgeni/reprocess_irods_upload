{
 "cells": [
  {
   "cell_type": "markdown",
   "id": "70a07d3c",
   "metadata": {},
   "source": [
    "# Environment"
   ]
  },
  {
   "cell_type": "markdown",
   "id": "7e3071b4",
   "metadata": {},
   "source": [
    "## Imports"
   ]
  },
  {
   "cell_type": "code",
   "execution_count": 1,
   "id": "111619ea",
   "metadata": {},
   "outputs": [],
   "source": [
    "import os\n",
    "import glob\n",
    "import pandas as pd"
   ]
  },
  {
   "cell_type": "markdown",
   "id": "825480f6",
   "metadata": {},
   "source": [
    "## Global variables"
   ]
  },
  {
   "cell_type": "code",
   "execution_count": 2,
   "id": "95578824",
   "metadata": {},
   "outputs": [],
   "source": [
    "qc_dir = \"/lustre/scratch127/cellgen/cellgeni/aljes/reprocessing/solo_qc_dir\""
   ]
  },
  {
   "cell_type": "markdown",
   "id": "ace6c241",
   "metadata": {},
   "source": [
    "## Load the data"
   ]
  },
  {
   "cell_type": "markdown",
   "id": "62d54ced",
   "metadata": {},
   "source": [
    "Get a list of all QC files"
   ]
  },
  {
   "cell_type": "code",
   "execution_count": 3,
   "id": "19aca9ce",
   "metadata": {},
   "outputs": [
    {
     "data": {
      "text/plain": [
       "(['/lustre/scratch127/cellgen/cellgeni/aljes/reprocessing/solo_qc_dir/GSE143437.solo_qc.tsv',\n",
       "  '/lustre/scratch127/cellgen/cellgeni/aljes/reprocessing/solo_qc_dir/GSE114724.solo_qc.tsv',\n",
       "  '/lustre/scratch127/cellgen/cellgeni/aljes/reprocessing/solo_qc_dir/GSE132959.solo_qc.tsv'],\n",
       " 2601)"
      ]
     },
     "execution_count": 3,
     "metadata": {},
     "output_type": "execute_result"
    }
   ],
   "source": [
    "qc_files_list = glob.glob(f\"{qc_dir}/*\")\n",
    "qc_files_list[:3], len(qc_files_list)"
   ]
  },
  {
   "cell_type": "markdown",
   "id": "a9334b54",
   "metadata": {},
   "source": [
    "Read their contents to one `dataframe`"
   ]
  },
  {
   "cell_type": "code",
   "execution_count": 4,
   "id": "4577ce00",
   "metadata": {},
   "outputs": [
    {
     "data": {
      "text/plain": [
       "(       Sample       Rd_all  Rd_in_cells  Frc_in_cells  UMI_in_cells   Cells  \\\n",
       " 0  GSM4259473  228700456.0  104762310.0         0.458    10899841.0  3645.0   \n",
       " 1  GSM4259474  256778531.0  117821690.0         0.459    15516156.0  5702.0   \n",
       " 2  GSM4259475  237783790.0   66360336.0         0.279    33897683.0  8282.0   \n",
       " 3  GSM4259476  143080183.0   89904246.0         0.628    43056446.0  6041.0   \n",
       " 4  GSM4259477  243114255.0  147027233.0         0.605    27721333.0  3216.0   \n",
       " \n",
       "    Med_nFeature   Good_BC  WL Species  Paired   Strand   all_u+m     all_u  \\\n",
       " 0        1135.0  0.982570  v2   Mouse  Single  Forward  0.859548  0.587572   \n",
       " 1        1056.0  0.982054  v2   Mouse  Single  Forward  0.890066  0.601419   \n",
       " 2         510.0  0.974452  v3   Mouse  Single  Forward  0.871597  0.461927   \n",
       " 3        2059.0  0.982375  v2   Mouse  Single  Forward  0.825362  0.588886   \n",
       " 4        2254.0  0.980075  v2   Mouse  Single  Forward  0.823184  0.589905   \n",
       " \n",
       "    exon_u+m    exon_u  full_u+m    full_u    dataset  \n",
       " 0  0.695069  0.663193  0.763408  0.707288  GSE143437  \n",
       " 1  0.736884  0.703998  0.799736  0.741322  GSE143437  \n",
       " 2  0.703091  0.694612  0.776523  0.756396  GSE143437  \n",
       " 3  0.681863  0.646748  0.746805  0.666090  GSE143437  \n",
       " 4  0.653220  0.619906  0.723066  0.647700  GSE143437  ,\n",
       " (17092, 19))"
      ]
     },
     "execution_count": 4,
     "metadata": {},
     "output_type": "execute_result"
    }
   ],
   "source": [
    "df_list = list()\n",
    "for filepath in qc_files_list:\n",
    "    dataset_id = os.path.basename(filepath).split(\".\")[0]\n",
    "    df = pd.read_csv(filepath, sep=\"\\t\")\n",
    "    df[\"dataset\"] = dataset_id\n",
    "    df_list.append(df)\n",
    "\n",
    "combined_df = pd.concat(df_list, ignore_index=True, axis=0)\n",
    "combined_df.head(), combined_df.shape"
   ]
  },
  {
   "cell_type": "markdown",
   "id": "f5cb788d",
   "metadata": {},
   "source": [
    "# Calculate statistics"
   ]
  },
  {
   "cell_type": "markdown",
   "id": "c4f83ec9",
   "metadata": {},
   "source": [
    "Calculate some statistics"
   ]
  },
  {
   "cell_type": "code",
   "execution_count": 10,
   "id": "79703e15",
   "metadata": {},
   "outputs": [
    {
     "name": "stdout",
     "output_type": "stream",
     "text": [
      "Number of datasets: 2601\n",
      "Number of samples: 17092\n",
      "Number of cells: 110702641.0\n",
      "Number of human samples: 8945, Number of mouse samples: 8147\n",
      "Number of human cells:  58904046, Number of mouse cells:  51798595\n"
     ]
    }
   ],
   "source": [
    "specie_sample_counts = combined_df[\"Species\"].value_counts().to_dict()\n",
    "specie_cell_counts = combined_df[[\"Species\", \"Cells\"]].groupby(\"Species\").sum().to_dict()[\"Cells\"]\n",
    "\n",
    "\n",
    "print(f\"Number of datasets: {combined_df['dataset'].nunique()}\")\n",
    "print(f\"Number of samples: {combined_df.shape[0]}\")\n",
    "print(f\"Number of cells: {combined_df['Cells'].sum()}\")\n",
    "print(f\"Number of human samples: {specie_sample_counts['Human']}, Number of mouse samples: {specie_sample_counts['Mouse']}\")\n",
    "print(f\"Number of human cells: {specie_cell_counts['Human']: .0f}, Number of mouse cells: {int(specie_cell_counts['Mouse']): .0f}\")"
   ]
  }
 ],
 "metadata": {
  "kernelspec": {
   "display_name": "venv",
   "language": "python",
   "name": "python3"
  },
  "language_info": {
   "codemirror_mode": {
    "name": "ipython",
    "version": 3
   },
   "file_extension": ".py",
   "mimetype": "text/x-python",
   "name": "python",
   "nbconvert_exporter": "python",
   "pygments_lexer": "ipython3",
   "version": "3.10.14"
  }
 },
 "nbformat": 4,
 "nbformat_minor": 5
}
