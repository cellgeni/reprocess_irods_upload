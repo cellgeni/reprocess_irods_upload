{
 "cells": [
  {
   "cell_type": "code",
   "execution_count": 2,
   "metadata": {},
   "outputs": [],
   "source": [
    "import pandas as pd\n",
    "import os\n",
    "import glob"
   ]
  },
  {
   "cell_type": "code",
   "execution_count": 3,
   "metadata": {},
   "outputs": [],
   "source": [
    "basedir = '/lustre/scratch127/cellgen/cellgeni/reprocessing-datasets-project/irods'"
   ]
  },
  {
   "cell_type": "code",
   "execution_count": 4,
   "metadata": {},
   "outputs": [],
   "source": [
    "count_dict = dict()\n",
    "for filepath in glob.glob(f'{basedir}/*/*accessions.tsv'):\n",
    "    with open(filepath, 'r') as file:\n",
    "        lines = [line.rstrip().split('\\t') for line in file.readlines()]\n",
    "        count = {line[1]:[line[0], len(line[2]), filepath] for line in lines}\n",
    "        count_dict.update(count)"
   ]
  },
  {
   "cell_type": "code",
   "execution_count": 40,
   "metadata": {},
   "outputs": [],
   "source": [
    "source_dir = '/lustre/scratch127/cellgen/cellgeni/reprocessing-datasets-project/irods/E-MTAB-8007'\n",
    "target_dir = '/archive/cellgeni/datasets'"
   ]
  },
  {
   "cell_type": "code",
   "execution_count": 53,
   "metadata": {},
   "outputs": [],
   "source": [
    "def accessions_row_to_meta(row):\n",
    "    sample_dict = {\n",
    "        'experiment': row[2].split(','),\n",
    "        'run': row[3].split(',')\n",
    "    }\n",
    "    return sample_dict\n",
    "\n",
    "def solo_qc_row_to_meta(header, row):\n",
    "    return dict(zip(header[1:], row[1:]))\n",
    "\n",
    "\n",
    "def get_accessions_meta(accessions_file, sep='\\t'):\n",
    "    with open(accessions_file, 'r') as file:\n",
    "        # split line and remove \\n\n",
    "        lines = [line.rstrip().split(sep) for line in file.readlines()]\n",
    "        # convert to Dict[sample, meta]\n",
    "        samples = {line[1]: accessions_row_to_meta(line) for line in lines}\n",
    "    return samples\n",
    "\n",
    "\n",
    "def get_solo_qc_meta(solo_qc_file, sep='\\t'):\n",
    "    with open(solo_qc_file, 'r') as file:\n",
    "        header = file.readline().rstrip().split(sep)\n",
    "        # split line and remove \\n\n",
    "        lines = [line.rstrip().split(sep) for line in file.readlines()]\n",
    "        # convert to Dict[sample, meta]\n",
    "        meta = {line[0]: solo_qc_row_to_meta(header, line) for line in lines}\n",
    "    return meta\n",
    "\n",
    "\n",
    "def write_meta(meta, output_dir, target_keys, key_convert):\n",
    "    for sample_meta in meta:\n",
    "        # get sample name\n",
    "        sample = sample_meta['sample']\n",
    "        # filter redundunt keys, change key names if neccessary and convert keys to lower case\n",
    "        filtered_meta = {key_convert.get(key, key).lower():value for key, value in sample_meta.items() if key in target_keys}\n",
    "        # convert dict into lines (if there are several values for the same key then several lines are created)\n",
    "        lines = [f'{key}\\t{val}\\n' for key, values in filtered_meta.items() for val in (values if isinstance(values, list) else [values])]\n",
    "        # get a filepath to metadata\n",
    "        filepath = os.path.join(output_dir, f'{sample}.tsv')\n",
    "        # write metadata\n",
    "        with open(filepath, 'w') as file:\n",
    "            file.writelines(lines)"
   ]
  },
  {
   "cell_type": "code",
   "execution_count": 54,
   "metadata": {},
   "outputs": [],
   "source": [
    "import csv\n",
    "\n",
    "target_keys = ['sample', 'experiment', 'run', 'Rd_all', 'WL', 'Species', 'Paired', 'Strand']\n",
    "key_convert = {\n",
    "    'Rd_all': 'total_reads',\n",
    "    'WL': 'whitelist'\n",
    "}\n",
    "\n",
    "source_dir = source_dir.rstrip('/')\n",
    "target_dir = target_dir.rstrip('/')\n",
    "output_dir = 'metadata'\n",
    "\n",
    "dataset = os.path.basename(source_dir)\n",
    "\n",
    "accessions_file = os.path.join(source_dir, f'{dataset}.accessions.tsv')\n",
    "solo_qc_file = os.path.join(source_dir, f'{dataset}.solo_qc.tsv')\n",
    "sep = '\\t'\n",
    "\n",
    "accessions_meta = get_accessions_meta(accessions_file)\n",
    "solo_qc_meta = get_solo_qc_meta(solo_qc_file)\n",
    "\n",
    "\n",
    "# concatenate dicts\n",
    "meta = [dict(sample=key, **accessions_meta[key], **solo_qc_meta[key]) for key in solo_qc_meta.keys()]\n",
    "\n",
    "os.makedirs(output_dir, exist_ok=True)\n",
    "\n",
    "write_meta(meta, output_dir, target_keys, key_convert)"
   ]
  }
 ],
 "metadata": {
  "kernelspec": {
   "display_name": "venv",
   "language": "python",
   "name": "python3"
  },
  "language_info": {
   "codemirror_mode": {
    "name": "ipython",
    "version": 3
   },
   "file_extension": ".py",
   "mimetype": "text/x-python",
   "name": "python",
   "nbconvert_exporter": "python",
   "pygments_lexer": "ipython3",
   "version": "3.10.14"
  }
 },
 "nbformat": 4,
 "nbformat_minor": 2
}
